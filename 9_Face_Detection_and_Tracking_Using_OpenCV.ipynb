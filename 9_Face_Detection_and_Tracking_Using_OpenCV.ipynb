{
 "cells": [
  {
   "cell_type": "code",
   "execution_count": 3,
   "id": "6defe177",
   "metadata": {},
   "outputs": [],
   "source": [
    "import cv2\n",
    "face_cascade = cv2.CascadeClassifier('models/haarcascade_frontalface_default.xml')"
   ]
  },
  {
   "cell_type": "code",
   "execution_count": 5,
   "id": "f3322de1",
   "metadata": {},
   "outputs": [],
   "source": [
    "cap = cv2.VideoCapture('datasets/CERN_Higgs boson_EDIT.mp4')\n",
    "while True:\n",
    "    ok, img = cap.read()\n",
    "    if not ok:\n",
    "        print('Video Ending')\n",
    "        cap.release()\n",
    "        cv2.destroyAllWindows()\n",
    "        break\n",
    "        \n",
    "     # Convert to grayscale\n",
    "    \n",
    "    gray = cv2.cvtColor(img, cv2.COLOR_BGR2GRAY)\n",
    "        \n",
    "     # Detect the faces\n",
    "    \n",
    "    faces = face_cascade.detectMultiScale(gray, 1.1,4)\n",
    "        \n",
    "     # Draw the rectangle around each face\n",
    "    \n",
    "    for (x, y, w, h) in faces:\n",
    "        cv2.rectangle(img, (x, y), (x+w, y+h),(0,0,255))\n",
    "    \n",
    "     # Display\n",
    "        \n",
    "        cv2.imshow('img', img)\n",
    "    \n",
    "     # quit Press Key Q to quit and Close window\n",
    "        \n",
    "        if cv2.waitKey(1) & 0xFF == ord('q'):\n",
    "        \n",
    "     # Release the VideoCapture object\n",
    "    \n",
    "             cap.release()\n",
    "        \n",
    "     # Close all window\n",
    "    \n",
    "             cv2.destroyAllWindows()\n",
    "             break"
   ]
  },
  {
   "cell_type": "code",
   "execution_count": null,
   "id": "a9cb51f8",
   "metadata": {},
   "outputs": [],
   "source": []
  }
 ],
 "metadata": {
  "kernelspec": {
   "display_name": "Python 3 (ipykernel)",
   "language": "python",
   "name": "python3"
  },
  "language_info": {
   "codemirror_mode": {
    "name": "ipython",
    "version": 3
   },
   "file_extension": ".py",
   "mimetype": "text/x-python",
   "name": "python",
   "nbconvert_exporter": "python",
   "pygments_lexer": "ipython3",
   "version": "3.9.13"
  }
 },
 "nbformat": 4,
 "nbformat_minor": 5
}
